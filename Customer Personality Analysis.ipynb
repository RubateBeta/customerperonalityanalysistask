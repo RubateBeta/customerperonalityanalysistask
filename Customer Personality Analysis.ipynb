{
  "metadata": {
    "kernelspec": {
      "name": "python",
      "display_name": "Python (Pyodide)",
      "language": "python"
    },
    "language_info": {
      "codemirror_mode": {
        "name": "python",
        "version": 3
      },
      "file_extension": ".py",
      "mimetype": "text/x-python",
      "name": "python",
      "nbconvert_exporter": "python",
      "pygments_lexer": "ipython3",
      "version": "3.8"
    }
  },
  "nbformat_minor": 5,
  "nbformat": 4,
  "cells": [
    {
      "id": "d5393c2f-2a12-4f30-988e-63a847934430",
      "cell_type": "markdown",
      "source": "CLEANING DATASET OF CUSTOMER PERSONALITY ANALYSIS  (TASK - 1) ",
      "metadata": {}
    },
    {
      "id": "36718cf0-fdef-4fb0-8c19-9eb901829c7d",
      "cell_type": "markdown",
      "source": "IMPORTING IMPORTANT LIBRARIES FOR THE TASK REQUIRED",
      "metadata": {}
    },
    {
      "id": "0c797c34-0c25-43d2-9b1f-6001fd0de21e",
      "cell_type": "code",
      "source": "import numpy as np\nimport pandas as pd\nfrom datetime import datetime",
      "metadata": {
        "trusted": true
      },
      "outputs": [],
      "execution_count": 20
    },
    {
      "id": "813e3dd8-7dcf-4368-9956-5667fbdd8251",
      "cell_type": "markdown",
      "source": "READING THE DATASET AND PRINT",
      "metadata": {}
    },
    {
      "id": "de7bd28d-15c0-43d6-a81a-9688308c6f7c",
      "cell_type": "code",
      "source": "df = pd.read_csv (\"marketing_campaign.csv\" , sep='\\t')\ndf.head(10)",
      "metadata": {
        "trusted": true
      },
      "outputs": [
        {
          "execution_count": 21,
          "output_type": "execute_result",
          "data": {
            "text/plain": "     ID  Year_Birth   Education Marital_Status   Income  Kidhome  Teenhome  \\\n0  5524        1957  Graduation         Single  58138.0        0         0   \n1  2174        1954  Graduation         Single  46344.0        1         1   \n2  4141        1965  Graduation       Together  71613.0        0         0   \n3  6182        1984  Graduation       Together  26646.0        1         0   \n4  5324        1981         PhD        Married  58293.0        1         0   \n5  7446        1967      Master       Together  62513.0        0         1   \n6   965        1971  Graduation       Divorced  55635.0        0         1   \n7  6177        1985         PhD        Married  33454.0        1         0   \n8  4855        1974         PhD       Together  30351.0        1         0   \n9  5899        1950         PhD       Together   5648.0        1         1   \n\n  Dt_Customer  Recency  MntWines  ...  NumWebVisitsMonth  AcceptedCmp3  \\\n0  04-09-2012       58       635  ...                  7             0   \n1  08-03-2014       38        11  ...                  5             0   \n2  21-08-2013       26       426  ...                  4             0   \n3  10-02-2014       26        11  ...                  6             0   \n4  19-01-2014       94       173  ...                  5             0   \n5  09-09-2013       16       520  ...                  6             0   \n6  13-11-2012       34       235  ...                  6             0   \n7  08-05-2013       32        76  ...                  8             0   \n8  06-06-2013       19        14  ...                  9             0   \n9  13-03-2014       68        28  ...                 20             1   \n\n   AcceptedCmp4  AcceptedCmp5  AcceptedCmp1  AcceptedCmp2  Complain  \\\n0             0             0             0             0         0   \n1             0             0             0             0         0   \n2             0             0             0             0         0   \n3             0             0             0             0         0   \n4             0             0             0             0         0   \n5             0             0             0             0         0   \n6             0             0             0             0         0   \n7             0             0             0             0         0   \n8             0             0             0             0         0   \n9             0             0             0             0         0   \n\n   Z_CostContact  Z_Revenue  Response  \n0              3         11         1  \n1              3         11         0  \n2              3         11         0  \n3              3         11         0  \n4              3         11         0  \n5              3         11         0  \n6              3         11         0  \n7              3         11         0  \n8              3         11         1  \n9              3         11         0  \n\n[10 rows x 29 columns]",
            "text/html": "<div>\n<style scoped>\n    .dataframe tbody tr th:only-of-type {\n        vertical-align: middle;\n    }\n\n    .dataframe tbody tr th {\n        vertical-align: top;\n    }\n\n    .dataframe thead th {\n        text-align: right;\n    }\n</style>\n<table border=\"1\" class=\"dataframe\">\n  <thead>\n    <tr style=\"text-align: right;\">\n      <th></th>\n      <th>ID</th>\n      <th>Year_Birth</th>\n      <th>Education</th>\n      <th>Marital_Status</th>\n      <th>Income</th>\n      <th>Kidhome</th>\n      <th>Teenhome</th>\n      <th>Dt_Customer</th>\n      <th>Recency</th>\n      <th>MntWines</th>\n      <th>...</th>\n      <th>NumWebVisitsMonth</th>\n      <th>AcceptedCmp3</th>\n      <th>AcceptedCmp4</th>\n      <th>AcceptedCmp5</th>\n      <th>AcceptedCmp1</th>\n      <th>AcceptedCmp2</th>\n      <th>Complain</th>\n      <th>Z_CostContact</th>\n      <th>Z_Revenue</th>\n      <th>Response</th>\n    </tr>\n  </thead>\n  <tbody>\n    <tr>\n      <th>0</th>\n      <td>5524</td>\n      <td>1957</td>\n      <td>Graduation</td>\n      <td>Single</td>\n      <td>58138.0</td>\n      <td>0</td>\n      <td>0</td>\n      <td>04-09-2012</td>\n      <td>58</td>\n      <td>635</td>\n      <td>...</td>\n      <td>7</td>\n      <td>0</td>\n      <td>0</td>\n      <td>0</td>\n      <td>0</td>\n      <td>0</td>\n      <td>0</td>\n      <td>3</td>\n      <td>11</td>\n      <td>1</td>\n    </tr>\n    <tr>\n      <th>1</th>\n      <td>2174</td>\n      <td>1954</td>\n      <td>Graduation</td>\n      <td>Single</td>\n      <td>46344.0</td>\n      <td>1</td>\n      <td>1</td>\n      <td>08-03-2014</td>\n      <td>38</td>\n      <td>11</td>\n      <td>...</td>\n      <td>5</td>\n      <td>0</td>\n      <td>0</td>\n      <td>0</td>\n      <td>0</td>\n      <td>0</td>\n      <td>0</td>\n      <td>3</td>\n      <td>11</td>\n      <td>0</td>\n    </tr>\n    <tr>\n      <th>2</th>\n      <td>4141</td>\n      <td>1965</td>\n      <td>Graduation</td>\n      <td>Together</td>\n      <td>71613.0</td>\n      <td>0</td>\n      <td>0</td>\n      <td>21-08-2013</td>\n      <td>26</td>\n      <td>426</td>\n      <td>...</td>\n      <td>4</td>\n      <td>0</td>\n      <td>0</td>\n      <td>0</td>\n      <td>0</td>\n      <td>0</td>\n      <td>0</td>\n      <td>3</td>\n      <td>11</td>\n      <td>0</td>\n    </tr>\n    <tr>\n      <th>3</th>\n      <td>6182</td>\n      <td>1984</td>\n      <td>Graduation</td>\n      <td>Together</td>\n      <td>26646.0</td>\n      <td>1</td>\n      <td>0</td>\n      <td>10-02-2014</td>\n      <td>26</td>\n      <td>11</td>\n      <td>...</td>\n      <td>6</td>\n      <td>0</td>\n      <td>0</td>\n      <td>0</td>\n      <td>0</td>\n      <td>0</td>\n      <td>0</td>\n      <td>3</td>\n      <td>11</td>\n      <td>0</td>\n    </tr>\n    <tr>\n      <th>4</th>\n      <td>5324</td>\n      <td>1981</td>\n      <td>PhD</td>\n      <td>Married</td>\n      <td>58293.0</td>\n      <td>1</td>\n      <td>0</td>\n      <td>19-01-2014</td>\n      <td>94</td>\n      <td>173</td>\n      <td>...</td>\n      <td>5</td>\n      <td>0</td>\n      <td>0</td>\n      <td>0</td>\n      <td>0</td>\n      <td>0</td>\n      <td>0</td>\n      <td>3</td>\n      <td>11</td>\n      <td>0</td>\n    </tr>\n    <tr>\n      <th>5</th>\n      <td>7446</td>\n      <td>1967</td>\n      <td>Master</td>\n      <td>Together</td>\n      <td>62513.0</td>\n      <td>0</td>\n      <td>1</td>\n      <td>09-09-2013</td>\n      <td>16</td>\n      <td>520</td>\n      <td>...</td>\n      <td>6</td>\n      <td>0</td>\n      <td>0</td>\n      <td>0</td>\n      <td>0</td>\n      <td>0</td>\n      <td>0</td>\n      <td>3</td>\n      <td>11</td>\n      <td>0</td>\n    </tr>\n    <tr>\n      <th>6</th>\n      <td>965</td>\n      <td>1971</td>\n      <td>Graduation</td>\n      <td>Divorced</td>\n      <td>55635.0</td>\n      <td>0</td>\n      <td>1</td>\n      <td>13-11-2012</td>\n      <td>34</td>\n      <td>235</td>\n      <td>...</td>\n      <td>6</td>\n      <td>0</td>\n      <td>0</td>\n      <td>0</td>\n      <td>0</td>\n      <td>0</td>\n      <td>0</td>\n      <td>3</td>\n      <td>11</td>\n      <td>0</td>\n    </tr>\n    <tr>\n      <th>7</th>\n      <td>6177</td>\n      <td>1985</td>\n      <td>PhD</td>\n      <td>Married</td>\n      <td>33454.0</td>\n      <td>1</td>\n      <td>0</td>\n      <td>08-05-2013</td>\n      <td>32</td>\n      <td>76</td>\n      <td>...</td>\n      <td>8</td>\n      <td>0</td>\n      <td>0</td>\n      <td>0</td>\n      <td>0</td>\n      <td>0</td>\n      <td>0</td>\n      <td>3</td>\n      <td>11</td>\n      <td>0</td>\n    </tr>\n    <tr>\n      <th>8</th>\n      <td>4855</td>\n      <td>1974</td>\n      <td>PhD</td>\n      <td>Together</td>\n      <td>30351.0</td>\n      <td>1</td>\n      <td>0</td>\n      <td>06-06-2013</td>\n      <td>19</td>\n      <td>14</td>\n      <td>...</td>\n      <td>9</td>\n      <td>0</td>\n      <td>0</td>\n      <td>0</td>\n      <td>0</td>\n      <td>0</td>\n      <td>0</td>\n      <td>3</td>\n      <td>11</td>\n      <td>1</td>\n    </tr>\n    <tr>\n      <th>9</th>\n      <td>5899</td>\n      <td>1950</td>\n      <td>PhD</td>\n      <td>Together</td>\n      <td>5648.0</td>\n      <td>1</td>\n      <td>1</td>\n      <td>13-03-2014</td>\n      <td>68</td>\n      <td>28</td>\n      <td>...</td>\n      <td>20</td>\n      <td>1</td>\n      <td>0</td>\n      <td>0</td>\n      <td>0</td>\n      <td>0</td>\n      <td>0</td>\n      <td>3</td>\n      <td>11</td>\n      <td>0</td>\n    </tr>\n  </tbody>\n</table>\n<p>10 rows × 29 columns</p>\n</div>"
          },
          "metadata": {}
        }
      ],
      "execution_count": 21
    },
    {
      "id": "f97d30af-e455-42ea-b9e5-04ceae0e8dfc",
      "cell_type": "markdown",
      "source": "DESCRIBING THE DATASET",
      "metadata": {}
    },
    {
      "id": "88e1ee85-d95b-4553-b5a5-9df6e0b0a65a",
      "cell_type": "code",
      "source": "df.describe().T",
      "metadata": {
        "trusted": true
      },
      "outputs": [
        {
          "execution_count": 25,
          "output_type": "execute_result",
          "data": {
            "text/plain": "                      count          mean           std     min       25%  \\\nID                   2240.0   5592.159821   3246.662198     0.0   2828.25   \nYear_Birth           2240.0   1968.805804     11.984069  1893.0   1959.00   \nIncome               2216.0  52247.251354  25173.076661  1730.0  35303.00   \nKidhome              2240.0      0.444196      0.538398     0.0      0.00   \nTeenhome             2240.0      0.506250      0.544538     0.0      0.00   \nRecency              2240.0     49.109375     28.962453     0.0     24.00   \nMntWines             2240.0    303.935714    336.597393     0.0     23.75   \nMntFruits            2240.0     26.302232     39.773434     0.0      1.00   \nMntMeatProducts      2240.0    166.950000    225.715373     0.0     16.00   \nMntFishProducts      2240.0     37.525446     54.628979     0.0      3.00   \nMntSweetProducts     2240.0     27.062946     41.280498     0.0      1.00   \nMntGoldProds         2240.0     44.021875     52.167439     0.0      9.00   \nNumDealsPurchases    2240.0      2.325000      1.932238     0.0      1.00   \nNumWebPurchases      2240.0      4.084821      2.778714     0.0      2.00   \nNumCatalogPurchases  2240.0      2.662054      2.923101     0.0      0.00   \nNumStorePurchases    2240.0      5.790179      3.250958     0.0      3.00   \nNumWebVisitsMonth    2240.0      5.316518      2.426645     0.0      3.00   \nAcceptedCmp3         2240.0      0.072768      0.259813     0.0      0.00   \nAcceptedCmp4         2240.0      0.074554      0.262728     0.0      0.00   \nAcceptedCmp5         2240.0      0.072768      0.259813     0.0      0.00   \nAcceptedCmp1         2240.0      0.064286      0.245316     0.0      0.00   \nAcceptedCmp2         2240.0      0.013393      0.114976     0.0      0.00   \nComplain             2240.0      0.009375      0.096391     0.0      0.00   \nZ_CostContact        2240.0      3.000000      0.000000     3.0      3.00   \nZ_Revenue            2240.0     11.000000      0.000000    11.0     11.00   \nResponse             2240.0      0.149107      0.356274     0.0      0.00   \n\n                         50%       75%       max  \nID                    5458.5   8427.75   11191.0  \nYear_Birth            1970.0   1977.00    1996.0  \nIncome               51381.5  68522.00  666666.0  \nKidhome                  0.0      1.00       2.0  \nTeenhome                 0.0      1.00       2.0  \nRecency                 49.0     74.00      99.0  \nMntWines               173.5    504.25    1493.0  \nMntFruits                8.0     33.00     199.0  \nMntMeatProducts         67.0    232.00    1725.0  \nMntFishProducts         12.0     50.00     259.0  \nMntSweetProducts         8.0     33.00     263.0  \nMntGoldProds            24.0     56.00     362.0  \nNumDealsPurchases        2.0      3.00      15.0  \nNumWebPurchases          4.0      6.00      27.0  \nNumCatalogPurchases      2.0      4.00      28.0  \nNumStorePurchases        5.0      8.00      13.0  \nNumWebVisitsMonth        6.0      7.00      20.0  \nAcceptedCmp3             0.0      0.00       1.0  \nAcceptedCmp4             0.0      0.00       1.0  \nAcceptedCmp5             0.0      0.00       1.0  \nAcceptedCmp1             0.0      0.00       1.0  \nAcceptedCmp2             0.0      0.00       1.0  \nComplain                 0.0      0.00       1.0  \nZ_CostContact            3.0      3.00       3.0  \nZ_Revenue               11.0     11.00      11.0  \nResponse                 0.0      0.00       1.0  ",
            "text/html": "<div>\n<style scoped>\n    .dataframe tbody tr th:only-of-type {\n        vertical-align: middle;\n    }\n\n    .dataframe tbody tr th {\n        vertical-align: top;\n    }\n\n    .dataframe thead th {\n        text-align: right;\n    }\n</style>\n<table border=\"1\" class=\"dataframe\">\n  <thead>\n    <tr style=\"text-align: right;\">\n      <th></th>\n      <th>count</th>\n      <th>mean</th>\n      <th>std</th>\n      <th>min</th>\n      <th>25%</th>\n      <th>50%</th>\n      <th>75%</th>\n      <th>max</th>\n    </tr>\n  </thead>\n  <tbody>\n    <tr>\n      <th>ID</th>\n      <td>2240.0</td>\n      <td>5592.159821</td>\n      <td>3246.662198</td>\n      <td>0.0</td>\n      <td>2828.25</td>\n      <td>5458.5</td>\n      <td>8427.75</td>\n      <td>11191.0</td>\n    </tr>\n    <tr>\n      <th>Year_Birth</th>\n      <td>2240.0</td>\n      <td>1968.805804</td>\n      <td>11.984069</td>\n      <td>1893.0</td>\n      <td>1959.00</td>\n      <td>1970.0</td>\n      <td>1977.00</td>\n      <td>1996.0</td>\n    </tr>\n    <tr>\n      <th>Income</th>\n      <td>2216.0</td>\n      <td>52247.251354</td>\n      <td>25173.076661</td>\n      <td>1730.0</td>\n      <td>35303.00</td>\n      <td>51381.5</td>\n      <td>68522.00</td>\n      <td>666666.0</td>\n    </tr>\n    <tr>\n      <th>Kidhome</th>\n      <td>2240.0</td>\n      <td>0.444196</td>\n      <td>0.538398</td>\n      <td>0.0</td>\n      <td>0.00</td>\n      <td>0.0</td>\n      <td>1.00</td>\n      <td>2.0</td>\n    </tr>\n    <tr>\n      <th>Teenhome</th>\n      <td>2240.0</td>\n      <td>0.506250</td>\n      <td>0.544538</td>\n      <td>0.0</td>\n      <td>0.00</td>\n      <td>0.0</td>\n      <td>1.00</td>\n      <td>2.0</td>\n    </tr>\n    <tr>\n      <th>Recency</th>\n      <td>2240.0</td>\n      <td>49.109375</td>\n      <td>28.962453</td>\n      <td>0.0</td>\n      <td>24.00</td>\n      <td>49.0</td>\n      <td>74.00</td>\n      <td>99.0</td>\n    </tr>\n    <tr>\n      <th>MntWines</th>\n      <td>2240.0</td>\n      <td>303.935714</td>\n      <td>336.597393</td>\n      <td>0.0</td>\n      <td>23.75</td>\n      <td>173.5</td>\n      <td>504.25</td>\n      <td>1493.0</td>\n    </tr>\n    <tr>\n      <th>MntFruits</th>\n      <td>2240.0</td>\n      <td>26.302232</td>\n      <td>39.773434</td>\n      <td>0.0</td>\n      <td>1.00</td>\n      <td>8.0</td>\n      <td>33.00</td>\n      <td>199.0</td>\n    </tr>\n    <tr>\n      <th>MntMeatProducts</th>\n      <td>2240.0</td>\n      <td>166.950000</td>\n      <td>225.715373</td>\n      <td>0.0</td>\n      <td>16.00</td>\n      <td>67.0</td>\n      <td>232.00</td>\n      <td>1725.0</td>\n    </tr>\n    <tr>\n      <th>MntFishProducts</th>\n      <td>2240.0</td>\n      <td>37.525446</td>\n      <td>54.628979</td>\n      <td>0.0</td>\n      <td>3.00</td>\n      <td>12.0</td>\n      <td>50.00</td>\n      <td>259.0</td>\n    </tr>\n    <tr>\n      <th>MntSweetProducts</th>\n      <td>2240.0</td>\n      <td>27.062946</td>\n      <td>41.280498</td>\n      <td>0.0</td>\n      <td>1.00</td>\n      <td>8.0</td>\n      <td>33.00</td>\n      <td>263.0</td>\n    </tr>\n    <tr>\n      <th>MntGoldProds</th>\n      <td>2240.0</td>\n      <td>44.021875</td>\n      <td>52.167439</td>\n      <td>0.0</td>\n      <td>9.00</td>\n      <td>24.0</td>\n      <td>56.00</td>\n      <td>362.0</td>\n    </tr>\n    <tr>\n      <th>NumDealsPurchases</th>\n      <td>2240.0</td>\n      <td>2.325000</td>\n      <td>1.932238</td>\n      <td>0.0</td>\n      <td>1.00</td>\n      <td>2.0</td>\n      <td>3.00</td>\n      <td>15.0</td>\n    </tr>\n    <tr>\n      <th>NumWebPurchases</th>\n      <td>2240.0</td>\n      <td>4.084821</td>\n      <td>2.778714</td>\n      <td>0.0</td>\n      <td>2.00</td>\n      <td>4.0</td>\n      <td>6.00</td>\n      <td>27.0</td>\n    </tr>\n    <tr>\n      <th>NumCatalogPurchases</th>\n      <td>2240.0</td>\n      <td>2.662054</td>\n      <td>2.923101</td>\n      <td>0.0</td>\n      <td>0.00</td>\n      <td>2.0</td>\n      <td>4.00</td>\n      <td>28.0</td>\n    </tr>\n    <tr>\n      <th>NumStorePurchases</th>\n      <td>2240.0</td>\n      <td>5.790179</td>\n      <td>3.250958</td>\n      <td>0.0</td>\n      <td>3.00</td>\n      <td>5.0</td>\n      <td>8.00</td>\n      <td>13.0</td>\n    </tr>\n    <tr>\n      <th>NumWebVisitsMonth</th>\n      <td>2240.0</td>\n      <td>5.316518</td>\n      <td>2.426645</td>\n      <td>0.0</td>\n      <td>3.00</td>\n      <td>6.0</td>\n      <td>7.00</td>\n      <td>20.0</td>\n    </tr>\n    <tr>\n      <th>AcceptedCmp3</th>\n      <td>2240.0</td>\n      <td>0.072768</td>\n      <td>0.259813</td>\n      <td>0.0</td>\n      <td>0.00</td>\n      <td>0.0</td>\n      <td>0.00</td>\n      <td>1.0</td>\n    </tr>\n    <tr>\n      <th>AcceptedCmp4</th>\n      <td>2240.0</td>\n      <td>0.074554</td>\n      <td>0.262728</td>\n      <td>0.0</td>\n      <td>0.00</td>\n      <td>0.0</td>\n      <td>0.00</td>\n      <td>1.0</td>\n    </tr>\n    <tr>\n      <th>AcceptedCmp5</th>\n      <td>2240.0</td>\n      <td>0.072768</td>\n      <td>0.259813</td>\n      <td>0.0</td>\n      <td>0.00</td>\n      <td>0.0</td>\n      <td>0.00</td>\n      <td>1.0</td>\n    </tr>\n    <tr>\n      <th>AcceptedCmp1</th>\n      <td>2240.0</td>\n      <td>0.064286</td>\n      <td>0.245316</td>\n      <td>0.0</td>\n      <td>0.00</td>\n      <td>0.0</td>\n      <td>0.00</td>\n      <td>1.0</td>\n    </tr>\n    <tr>\n      <th>AcceptedCmp2</th>\n      <td>2240.0</td>\n      <td>0.013393</td>\n      <td>0.114976</td>\n      <td>0.0</td>\n      <td>0.00</td>\n      <td>0.0</td>\n      <td>0.00</td>\n      <td>1.0</td>\n    </tr>\n    <tr>\n      <th>Complain</th>\n      <td>2240.0</td>\n      <td>0.009375</td>\n      <td>0.096391</td>\n      <td>0.0</td>\n      <td>0.00</td>\n      <td>0.0</td>\n      <td>0.00</td>\n      <td>1.0</td>\n    </tr>\n    <tr>\n      <th>Z_CostContact</th>\n      <td>2240.0</td>\n      <td>3.000000</td>\n      <td>0.000000</td>\n      <td>3.0</td>\n      <td>3.00</td>\n      <td>3.0</td>\n      <td>3.00</td>\n      <td>3.0</td>\n    </tr>\n    <tr>\n      <th>Z_Revenue</th>\n      <td>2240.0</td>\n      <td>11.000000</td>\n      <td>0.000000</td>\n      <td>11.0</td>\n      <td>11.00</td>\n      <td>11.0</td>\n      <td>11.00</td>\n      <td>11.0</td>\n    </tr>\n    <tr>\n      <th>Response</th>\n      <td>2240.0</td>\n      <td>0.149107</td>\n      <td>0.356274</td>\n      <td>0.0</td>\n      <td>0.00</td>\n      <td>0.0</td>\n      <td>0.00</td>\n      <td>1.0</td>\n    </tr>\n  </tbody>\n</table>\n</div>"
          },
          "metadata": {}
        }
      ],
      "execution_count": 25
    },
    {
      "id": "4a5c57a4-13a0-4f91-9fcc-70fe3a9dc27e",
      "cell_type": "markdown",
      "source": "CHECKING THE INFORMATION OF OUR DATASET",
      "metadata": {}
    },
    {
      "id": "095651a7-9d62-47c8-aa6e-297d2c515145",
      "cell_type": "code",
      "source": "df.info()",
      "metadata": {
        "trusted": true
      },
      "outputs": [
        {
          "name": "stdout",
          "output_type": "stream",
          "text": "<class 'pandas.core.frame.DataFrame'>\nRangeIndex: 2240 entries, 0 to 2239\nData columns (total 29 columns):\n #   Column               Non-Null Count  Dtype  \n---  ------               --------------  -----  \n 0   ID                   2240 non-null   int64  \n 1   Year_Birth           2240 non-null   int64  \n 2   Education            2240 non-null   object \n 3   Marital_Status       2240 non-null   object \n 4   Income               2216 non-null   float64\n 5   Kidhome              2240 non-null   int64  \n 6   Teenhome             2240 non-null   int64  \n 7   Dt_Customer          2240 non-null   object \n 8   Recency              2240 non-null   int64  \n 9   MntWines             2240 non-null   int64  \n 10  MntFruits            2240 non-null   int64  \n 11  MntMeatProducts      2240 non-null   int64  \n 12  MntFishProducts      2240 non-null   int64  \n 13  MntSweetProducts     2240 non-null   int64  \n 14  MntGoldProds         2240 non-null   int64  \n 15  NumDealsPurchases    2240 non-null   int64  \n 16  NumWebPurchases      2240 non-null   int64  \n 17  NumCatalogPurchases  2240 non-null   int64  \n 18  NumStorePurchases    2240 non-null   int64  \n 19  NumWebVisitsMonth    2240 non-null   int64  \n 20  AcceptedCmp3         2240 non-null   int64  \n 21  AcceptedCmp4         2240 non-null   int64  \n 22  AcceptedCmp5         2240 non-null   int64  \n 23  AcceptedCmp1         2240 non-null   int64  \n 24  AcceptedCmp2         2240 non-null   int64  \n 25  Complain             2240 non-null   int64  \n 26  Z_CostContact        2240 non-null   int64  \n 27  Z_Revenue            2240 non-null   int64  \n 28  Response             2240 non-null   int64  \ndtypes: float64(1), int64(25), object(3)\nmemory usage: 481.3+ KB\n"
        }
      ],
      "execution_count": 14
    },
    {
      "id": "32f63e85-a9f2-4d7f-987c-a94ada06d4ce",
      "cell_type": "markdown",
      "source": "CHECKING ANY NULL VALUE IS AVAILABLE OR NOT",
      "metadata": {}
    },
    {
      "id": "4ec07a46-70e0-4910-9b25-2590fcf42b31",
      "cell_type": "code",
      "source": "df.isnull().sum()",
      "metadata": {
        "trusted": true
      },
      "outputs": [
        {
          "execution_count": 26,
          "output_type": "execute_result",
          "data": {
            "text/plain": "ID                      0\nYear_Birth              0\nEducation               0\nMarital_Status          0\nIncome                 24\nKidhome                 0\nTeenhome                0\nDt_Customer             0\nRecency                 0\nMntWines                0\nMntFruits               0\nMntMeatProducts         0\nMntFishProducts         0\nMntSweetProducts        0\nMntGoldProds            0\nNumDealsPurchases       0\nNumWebPurchases         0\nNumCatalogPurchases     0\nNumStorePurchases       0\nNumWebVisitsMonth       0\nAcceptedCmp3            0\nAcceptedCmp4            0\nAcceptedCmp5            0\nAcceptedCmp1            0\nAcceptedCmp2            0\nComplain                0\nZ_CostContact           0\nZ_Revenue               0\nResponse                0\ndtype: int64"
          },
          "metadata": {}
        }
      ],
      "execution_count": 26
    },
    {
      "id": "ded5ca78-9927-41d1-b469-33a9503f2202",
      "cell_type": "markdown",
      "source": "DUPLICATE ITEMS CHECKING",
      "metadata": {}
    },
    {
      "id": "e38a6ea3-eced-4757-8795-c1c0938b1a5d",
      "cell_type": "code",
      "source": "df.duplicated().sum()",
      "metadata": {
        "trusted": true
      },
      "outputs": [
        {
          "execution_count": 32,
          "output_type": "execute_result",
          "data": {
            "text/plain": "np.int64(0)"
          },
          "metadata": {}
        }
      ],
      "execution_count": 32
    },
    {
      "id": "5a312585-3c66-451a-af85-0fd9180e9432",
      "cell_type": "markdown",
      "source": "DELETING THE DUPLICATE ITEMS (IF ANY) AND PRINT THE DATASET",
      "metadata": {}
    },
    {
      "id": "df23ef54-0dc5-47e2-b388-5d11a34c4929",
      "cell_type": "code",
      "source": "df.drop_duplicates()",
      "metadata": {
        "trusted": true
      },
      "outputs": [
        {
          "execution_count": 30,
          "output_type": "execute_result",
          "data": {
            "text/plain": "         ID  Year_Birth   Education Marital_Status   Income  Kidhome  \\\n0      5524        1957  Graduation         Single  58138.0        0   \n1      2174        1954  Graduation         Single  46344.0        1   \n2      4141        1965  Graduation       Together  71613.0        0   \n3      6182        1984  Graduation       Together  26646.0        1   \n4      5324        1981         PhD        Married  58293.0        1   \n...     ...         ...         ...            ...      ...      ...   \n2235  10870        1967  Graduation        Married  61223.0        0   \n2236   4001        1946         PhD       Together  64014.0        2   \n2237   7270        1981  Graduation       Divorced  56981.0        0   \n2238   8235        1956      Master       Together  69245.0        0   \n2239   9405        1954         PhD        Married  52869.0        1   \n\n      Teenhome Dt_Customer  Recency  MntWines  ...  NumWebVisitsMonth  \\\n0            0  04-09-2012       58       635  ...                  7   \n1            1  08-03-2014       38        11  ...                  5   \n2            0  21-08-2013       26       426  ...                  4   \n3            0  10-02-2014       26        11  ...                  6   \n4            0  19-01-2014       94       173  ...                  5   \n...        ...         ...      ...       ...  ...                ...   \n2235         1  13-06-2013       46       709  ...                  5   \n2236         1  10-06-2014       56       406  ...                  7   \n2237         0  25-01-2014       91       908  ...                  6   \n2238         1  24-01-2014        8       428  ...                  3   \n2239         1  15-10-2012       40        84  ...                  7   \n\n      AcceptedCmp3  AcceptedCmp4  AcceptedCmp5  AcceptedCmp1  AcceptedCmp2  \\\n0                0             0             0             0             0   \n1                0             0             0             0             0   \n2                0             0             0             0             0   \n3                0             0             0             0             0   \n4                0             0             0             0             0   \n...            ...           ...           ...           ...           ...   \n2235             0             0             0             0             0   \n2236             0             0             0             1             0   \n2237             0             1             0             0             0   \n2238             0             0             0             0             0   \n2239             0             0             0             0             0   \n\n      Complain  Z_CostContact  Z_Revenue  Response  \n0            0              3         11         1  \n1            0              3         11         0  \n2            0              3         11         0  \n3            0              3         11         0  \n4            0              3         11         0  \n...        ...            ...        ...       ...  \n2235         0              3         11         0  \n2236         0              3         11         0  \n2237         0              3         11         0  \n2238         0              3         11         0  \n2239         0              3         11         1  \n\n[2240 rows x 29 columns]",
            "text/html": "<div>\n<style scoped>\n    .dataframe tbody tr th:only-of-type {\n        vertical-align: middle;\n    }\n\n    .dataframe tbody tr th {\n        vertical-align: top;\n    }\n\n    .dataframe thead th {\n        text-align: right;\n    }\n</style>\n<table border=\"1\" class=\"dataframe\">\n  <thead>\n    <tr style=\"text-align: right;\">\n      <th></th>\n      <th>ID</th>\n      <th>Year_Birth</th>\n      <th>Education</th>\n      <th>Marital_Status</th>\n      <th>Income</th>\n      <th>Kidhome</th>\n      <th>Teenhome</th>\n      <th>Dt_Customer</th>\n      <th>Recency</th>\n      <th>MntWines</th>\n      <th>...</th>\n      <th>NumWebVisitsMonth</th>\n      <th>AcceptedCmp3</th>\n      <th>AcceptedCmp4</th>\n      <th>AcceptedCmp5</th>\n      <th>AcceptedCmp1</th>\n      <th>AcceptedCmp2</th>\n      <th>Complain</th>\n      <th>Z_CostContact</th>\n      <th>Z_Revenue</th>\n      <th>Response</th>\n    </tr>\n  </thead>\n  <tbody>\n    <tr>\n      <th>0</th>\n      <td>5524</td>\n      <td>1957</td>\n      <td>Graduation</td>\n      <td>Single</td>\n      <td>58138.0</td>\n      <td>0</td>\n      <td>0</td>\n      <td>04-09-2012</td>\n      <td>58</td>\n      <td>635</td>\n      <td>...</td>\n      <td>7</td>\n      <td>0</td>\n      <td>0</td>\n      <td>0</td>\n      <td>0</td>\n      <td>0</td>\n      <td>0</td>\n      <td>3</td>\n      <td>11</td>\n      <td>1</td>\n    </tr>\n    <tr>\n      <th>1</th>\n      <td>2174</td>\n      <td>1954</td>\n      <td>Graduation</td>\n      <td>Single</td>\n      <td>46344.0</td>\n      <td>1</td>\n      <td>1</td>\n      <td>08-03-2014</td>\n      <td>38</td>\n      <td>11</td>\n      <td>...</td>\n      <td>5</td>\n      <td>0</td>\n      <td>0</td>\n      <td>0</td>\n      <td>0</td>\n      <td>0</td>\n      <td>0</td>\n      <td>3</td>\n      <td>11</td>\n      <td>0</td>\n    </tr>\n    <tr>\n      <th>2</th>\n      <td>4141</td>\n      <td>1965</td>\n      <td>Graduation</td>\n      <td>Together</td>\n      <td>71613.0</td>\n      <td>0</td>\n      <td>0</td>\n      <td>21-08-2013</td>\n      <td>26</td>\n      <td>426</td>\n      <td>...</td>\n      <td>4</td>\n      <td>0</td>\n      <td>0</td>\n      <td>0</td>\n      <td>0</td>\n      <td>0</td>\n      <td>0</td>\n      <td>3</td>\n      <td>11</td>\n      <td>0</td>\n    </tr>\n    <tr>\n      <th>3</th>\n      <td>6182</td>\n      <td>1984</td>\n      <td>Graduation</td>\n      <td>Together</td>\n      <td>26646.0</td>\n      <td>1</td>\n      <td>0</td>\n      <td>10-02-2014</td>\n      <td>26</td>\n      <td>11</td>\n      <td>...</td>\n      <td>6</td>\n      <td>0</td>\n      <td>0</td>\n      <td>0</td>\n      <td>0</td>\n      <td>0</td>\n      <td>0</td>\n      <td>3</td>\n      <td>11</td>\n      <td>0</td>\n    </tr>\n    <tr>\n      <th>4</th>\n      <td>5324</td>\n      <td>1981</td>\n      <td>PhD</td>\n      <td>Married</td>\n      <td>58293.0</td>\n      <td>1</td>\n      <td>0</td>\n      <td>19-01-2014</td>\n      <td>94</td>\n      <td>173</td>\n      <td>...</td>\n      <td>5</td>\n      <td>0</td>\n      <td>0</td>\n      <td>0</td>\n      <td>0</td>\n      <td>0</td>\n      <td>0</td>\n      <td>3</td>\n      <td>11</td>\n      <td>0</td>\n    </tr>\n    <tr>\n      <th>...</th>\n      <td>...</td>\n      <td>...</td>\n      <td>...</td>\n      <td>...</td>\n      <td>...</td>\n      <td>...</td>\n      <td>...</td>\n      <td>...</td>\n      <td>...</td>\n      <td>...</td>\n      <td>...</td>\n      <td>...</td>\n      <td>...</td>\n      <td>...</td>\n      <td>...</td>\n      <td>...</td>\n      <td>...</td>\n      <td>...</td>\n      <td>...</td>\n      <td>...</td>\n      <td>...</td>\n    </tr>\n    <tr>\n      <th>2235</th>\n      <td>10870</td>\n      <td>1967</td>\n      <td>Graduation</td>\n      <td>Married</td>\n      <td>61223.0</td>\n      <td>0</td>\n      <td>1</td>\n      <td>13-06-2013</td>\n      <td>46</td>\n      <td>709</td>\n      <td>...</td>\n      <td>5</td>\n      <td>0</td>\n      <td>0</td>\n      <td>0</td>\n      <td>0</td>\n      <td>0</td>\n      <td>0</td>\n      <td>3</td>\n      <td>11</td>\n      <td>0</td>\n    </tr>\n    <tr>\n      <th>2236</th>\n      <td>4001</td>\n      <td>1946</td>\n      <td>PhD</td>\n      <td>Together</td>\n      <td>64014.0</td>\n      <td>2</td>\n      <td>1</td>\n      <td>10-06-2014</td>\n      <td>56</td>\n      <td>406</td>\n      <td>...</td>\n      <td>7</td>\n      <td>0</td>\n      <td>0</td>\n      <td>0</td>\n      <td>1</td>\n      <td>0</td>\n      <td>0</td>\n      <td>3</td>\n      <td>11</td>\n      <td>0</td>\n    </tr>\n    <tr>\n      <th>2237</th>\n      <td>7270</td>\n      <td>1981</td>\n      <td>Graduation</td>\n      <td>Divorced</td>\n      <td>56981.0</td>\n      <td>0</td>\n      <td>0</td>\n      <td>25-01-2014</td>\n      <td>91</td>\n      <td>908</td>\n      <td>...</td>\n      <td>6</td>\n      <td>0</td>\n      <td>1</td>\n      <td>0</td>\n      <td>0</td>\n      <td>0</td>\n      <td>0</td>\n      <td>3</td>\n      <td>11</td>\n      <td>0</td>\n    </tr>\n    <tr>\n      <th>2238</th>\n      <td>8235</td>\n      <td>1956</td>\n      <td>Master</td>\n      <td>Together</td>\n      <td>69245.0</td>\n      <td>0</td>\n      <td>1</td>\n      <td>24-01-2014</td>\n      <td>8</td>\n      <td>428</td>\n      <td>...</td>\n      <td>3</td>\n      <td>0</td>\n      <td>0</td>\n      <td>0</td>\n      <td>0</td>\n      <td>0</td>\n      <td>0</td>\n      <td>3</td>\n      <td>11</td>\n      <td>0</td>\n    </tr>\n    <tr>\n      <th>2239</th>\n      <td>9405</td>\n      <td>1954</td>\n      <td>PhD</td>\n      <td>Married</td>\n      <td>52869.0</td>\n      <td>1</td>\n      <td>1</td>\n      <td>15-10-2012</td>\n      <td>40</td>\n      <td>84</td>\n      <td>...</td>\n      <td>7</td>\n      <td>0</td>\n      <td>0</td>\n      <td>0</td>\n      <td>0</td>\n      <td>0</td>\n      <td>0</td>\n      <td>3</td>\n      <td>11</td>\n      <td>1</td>\n    </tr>\n  </tbody>\n</table>\n<p>2240 rows × 29 columns</p>\n</div>"
          },
          "metadata": {}
        }
      ],
      "execution_count": 30
    },
    {
      "id": "ca630670-d670-4f29-afab-81f79140d371",
      "cell_type": "markdown",
      "source": "CLEANING THE DATASETS COLUMNS AND IN SMALLCASE LETER ALSO AVOID SPACES AND MAKING UNIFORM DATASET.",
      "metadata": {}
    },
    {
      "id": "b6a052c3-b8d8-4099-8b7e-a3825b5b7f9d",
      "cell_type": "code",
      "source": "df.columns = df.columns.str.strip().str.lower().str.replace(' ','_')",
      "metadata": {
        "trusted": true
      },
      "outputs": [],
      "execution_count": 33
    },
    {
      "id": "65268243-5bf2-4c84-b7d5-942ead6ce482",
      "cell_type": "code",
      "source": "df.head(10)",
      "metadata": {
        "trusted": true
      },
      "outputs": [
        {
          "execution_count": 18,
          "output_type": "execute_result",
          "data": {
            "text/plain": "     id  year_birth   education marital_status   income  kidhome  teenhome  \\\n0  5524        1957  Graduation         Single  58138.0        0         0   \n1  2174        1954  Graduation         Single  46344.0        1         1   \n2  4141        1965  Graduation       Together  71613.0        0         0   \n3  6182        1984  Graduation       Together  26646.0        1         0   \n4  5324        1981         PhD        Married  58293.0        1         0   \n5  7446        1967      Master       Together  62513.0        0         1   \n6   965        1971  Graduation       Divorced  55635.0        0         1   \n7  6177        1985         PhD        Married  33454.0        1         0   \n8  4855        1974         PhD       Together  30351.0        1         0   \n9  5899        1950         PhD       Together   5648.0        1         1   \n\n  dt_customer  recency  mntwines  ...  numwebvisitsmonth  acceptedcmp3  \\\n0  04-09-2012       58       635  ...                  7             0   \n1  08-03-2014       38        11  ...                  5             0   \n2  21-08-2013       26       426  ...                  4             0   \n3  10-02-2014       26        11  ...                  6             0   \n4  19-01-2014       94       173  ...                  5             0   \n5  09-09-2013       16       520  ...                  6             0   \n6  13-11-2012       34       235  ...                  6             0   \n7  08-05-2013       32        76  ...                  8             0   \n8  06-06-2013       19        14  ...                  9             0   \n9  13-03-2014       68        28  ...                 20             1   \n\n   acceptedcmp4  acceptedcmp5  acceptedcmp1  acceptedcmp2  complain  \\\n0             0             0             0             0         0   \n1             0             0             0             0         0   \n2             0             0             0             0         0   \n3             0             0             0             0         0   \n4             0             0             0             0         0   \n5             0             0             0             0         0   \n6             0             0             0             0         0   \n7             0             0             0             0         0   \n8             0             0             0             0         0   \n9             0             0             0             0         0   \n\n   z_costcontact  z_revenue  response  \n0              3         11         1  \n1              3         11         0  \n2              3         11         0  \n3              3         11         0  \n4              3         11         0  \n5              3         11         0  \n6              3         11         0  \n7              3         11         0  \n8              3         11         1  \n9              3         11         0  \n\n[10 rows x 29 columns]",
            "text/html": "<div>\n<style scoped>\n    .dataframe tbody tr th:only-of-type {\n        vertical-align: middle;\n    }\n\n    .dataframe tbody tr th {\n        vertical-align: top;\n    }\n\n    .dataframe thead th {\n        text-align: right;\n    }\n</style>\n<table border=\"1\" class=\"dataframe\">\n  <thead>\n    <tr style=\"text-align: right;\">\n      <th></th>\n      <th>id</th>\n      <th>year_birth</th>\n      <th>education</th>\n      <th>marital_status</th>\n      <th>income</th>\n      <th>kidhome</th>\n      <th>teenhome</th>\n      <th>dt_customer</th>\n      <th>recency</th>\n      <th>mntwines</th>\n      <th>...</th>\n      <th>numwebvisitsmonth</th>\n      <th>acceptedcmp3</th>\n      <th>acceptedcmp4</th>\n      <th>acceptedcmp5</th>\n      <th>acceptedcmp1</th>\n      <th>acceptedcmp2</th>\n      <th>complain</th>\n      <th>z_costcontact</th>\n      <th>z_revenue</th>\n      <th>response</th>\n    </tr>\n  </thead>\n  <tbody>\n    <tr>\n      <th>0</th>\n      <td>5524</td>\n      <td>1957</td>\n      <td>Graduation</td>\n      <td>Single</td>\n      <td>58138.0</td>\n      <td>0</td>\n      <td>0</td>\n      <td>04-09-2012</td>\n      <td>58</td>\n      <td>635</td>\n      <td>...</td>\n      <td>7</td>\n      <td>0</td>\n      <td>0</td>\n      <td>0</td>\n      <td>0</td>\n      <td>0</td>\n      <td>0</td>\n      <td>3</td>\n      <td>11</td>\n      <td>1</td>\n    </tr>\n    <tr>\n      <th>1</th>\n      <td>2174</td>\n      <td>1954</td>\n      <td>Graduation</td>\n      <td>Single</td>\n      <td>46344.0</td>\n      <td>1</td>\n      <td>1</td>\n      <td>08-03-2014</td>\n      <td>38</td>\n      <td>11</td>\n      <td>...</td>\n      <td>5</td>\n      <td>0</td>\n      <td>0</td>\n      <td>0</td>\n      <td>0</td>\n      <td>0</td>\n      <td>0</td>\n      <td>3</td>\n      <td>11</td>\n      <td>0</td>\n    </tr>\n    <tr>\n      <th>2</th>\n      <td>4141</td>\n      <td>1965</td>\n      <td>Graduation</td>\n      <td>Together</td>\n      <td>71613.0</td>\n      <td>0</td>\n      <td>0</td>\n      <td>21-08-2013</td>\n      <td>26</td>\n      <td>426</td>\n      <td>...</td>\n      <td>4</td>\n      <td>0</td>\n      <td>0</td>\n      <td>0</td>\n      <td>0</td>\n      <td>0</td>\n      <td>0</td>\n      <td>3</td>\n      <td>11</td>\n      <td>0</td>\n    </tr>\n    <tr>\n      <th>3</th>\n      <td>6182</td>\n      <td>1984</td>\n      <td>Graduation</td>\n      <td>Together</td>\n      <td>26646.0</td>\n      <td>1</td>\n      <td>0</td>\n      <td>10-02-2014</td>\n      <td>26</td>\n      <td>11</td>\n      <td>...</td>\n      <td>6</td>\n      <td>0</td>\n      <td>0</td>\n      <td>0</td>\n      <td>0</td>\n      <td>0</td>\n      <td>0</td>\n      <td>3</td>\n      <td>11</td>\n      <td>0</td>\n    </tr>\n    <tr>\n      <th>4</th>\n      <td>5324</td>\n      <td>1981</td>\n      <td>PhD</td>\n      <td>Married</td>\n      <td>58293.0</td>\n      <td>1</td>\n      <td>0</td>\n      <td>19-01-2014</td>\n      <td>94</td>\n      <td>173</td>\n      <td>...</td>\n      <td>5</td>\n      <td>0</td>\n      <td>0</td>\n      <td>0</td>\n      <td>0</td>\n      <td>0</td>\n      <td>0</td>\n      <td>3</td>\n      <td>11</td>\n      <td>0</td>\n    </tr>\n    <tr>\n      <th>5</th>\n      <td>7446</td>\n      <td>1967</td>\n      <td>Master</td>\n      <td>Together</td>\n      <td>62513.0</td>\n      <td>0</td>\n      <td>1</td>\n      <td>09-09-2013</td>\n      <td>16</td>\n      <td>520</td>\n      <td>...</td>\n      <td>6</td>\n      <td>0</td>\n      <td>0</td>\n      <td>0</td>\n      <td>0</td>\n      <td>0</td>\n      <td>0</td>\n      <td>3</td>\n      <td>11</td>\n      <td>0</td>\n    </tr>\n    <tr>\n      <th>6</th>\n      <td>965</td>\n      <td>1971</td>\n      <td>Graduation</td>\n      <td>Divorced</td>\n      <td>55635.0</td>\n      <td>0</td>\n      <td>1</td>\n      <td>13-11-2012</td>\n      <td>34</td>\n      <td>235</td>\n      <td>...</td>\n      <td>6</td>\n      <td>0</td>\n      <td>0</td>\n      <td>0</td>\n      <td>0</td>\n      <td>0</td>\n      <td>0</td>\n      <td>3</td>\n      <td>11</td>\n      <td>0</td>\n    </tr>\n    <tr>\n      <th>7</th>\n      <td>6177</td>\n      <td>1985</td>\n      <td>PhD</td>\n      <td>Married</td>\n      <td>33454.0</td>\n      <td>1</td>\n      <td>0</td>\n      <td>08-05-2013</td>\n      <td>32</td>\n      <td>76</td>\n      <td>...</td>\n      <td>8</td>\n      <td>0</td>\n      <td>0</td>\n      <td>0</td>\n      <td>0</td>\n      <td>0</td>\n      <td>0</td>\n      <td>3</td>\n      <td>11</td>\n      <td>0</td>\n    </tr>\n    <tr>\n      <th>8</th>\n      <td>4855</td>\n      <td>1974</td>\n      <td>PhD</td>\n      <td>Together</td>\n      <td>30351.0</td>\n      <td>1</td>\n      <td>0</td>\n      <td>06-06-2013</td>\n      <td>19</td>\n      <td>14</td>\n      <td>...</td>\n      <td>9</td>\n      <td>0</td>\n      <td>0</td>\n      <td>0</td>\n      <td>0</td>\n      <td>0</td>\n      <td>0</td>\n      <td>3</td>\n      <td>11</td>\n      <td>1</td>\n    </tr>\n    <tr>\n      <th>9</th>\n      <td>5899</td>\n      <td>1950</td>\n      <td>PhD</td>\n      <td>Together</td>\n      <td>5648.0</td>\n      <td>1</td>\n      <td>1</td>\n      <td>13-03-2014</td>\n      <td>68</td>\n      <td>28</td>\n      <td>...</td>\n      <td>20</td>\n      <td>1</td>\n      <td>0</td>\n      <td>0</td>\n      <td>0</td>\n      <td>0</td>\n      <td>0</td>\n      <td>3</td>\n      <td>11</td>\n      <td>0</td>\n    </tr>\n  </tbody>\n</table>\n<p>10 rows × 29 columns</p>\n</div>"
          },
          "metadata": {}
        }
      ],
      "execution_count": 18
    },
    {
      "id": "2ab5526e-bbc2-44e2-8153-1530d1bdcc66",
      "cell_type": "code",
      "source": "",
      "metadata": {
        "trusted": true
      },
      "outputs": [],
      "execution_count": null
    }
  ]
}